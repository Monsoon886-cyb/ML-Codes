{
  "nbformat": 4,
  "nbformat_minor": 0,
  "metadata": {
    "colab": {
      "provenance": [],
      "authorship_tag": "ABX9TyOWtNzHRuJNbXQe+DJzYxLl",
      "include_colab_link": true
    },
    "kernelspec": {
      "name": "python3",
      "display_name": "Python 3"
    },
    "language_info": {
      "name": "python"
    }
  },
  "cells": [
    {
      "cell_type": "markdown",
      "metadata": {
        "id": "view-in-github",
        "colab_type": "text"
      },
      "source": [
        "<a href=\"https://colab.research.google.com/github/Monsoon886-cyb/ML-Codes/blob/main/voting_ensemble.ipynb\" target=\"_parent\"><img src=\"https://colab.research.google.com/assets/colab-badge.svg\" alt=\"Open In Colab\"/></a>"
      ]
    },
    {
      "cell_type": "code",
      "execution_count": 35,
      "metadata": {
        "id": "DHvo3tGmck-0"
      },
      "outputs": [],
      "source": [
        "from sklearn.datasets import fetch_california_housing\n",
        "import numpy as np\n",
        "from sklearn.linear_model import LinearRegression\n",
        "from sklearn.tree import DecisionTreeRegressor\n",
        "from sklearn.svm import SVR\n",
        "from sklearn.model_selection import cross_val_score"
      ]
    },
    {
      "cell_type": "code",
      "source": [
        "df = fetch_california_housing()\n",
        "X = df.data\n",
        "y = df.target"
      ],
      "metadata": {
        "id": "-EJWSemyfySQ"
      },
      "execution_count": 36,
      "outputs": []
    },
    {
      "cell_type": "markdown",
      "source": [
        "##Voting Regressor"
      ],
      "metadata": {
        "id": "J9hGMu8EmJdb"
      }
    },
    {
      "cell_type": "code",
      "source": [
        "lr = LinearRegression()\n",
        "dt = DecisionTreeRegressor()\n",
        "svr = SVR()"
      ],
      "metadata": {
        "id": "Zo1Qp8i_gTTf"
      },
      "execution_count": 37,
      "outputs": []
    },
    {
      "cell_type": "code",
      "source": [
        "estimators = [('lr', lr),('dt', dt),('svr', svr)]"
      ],
      "metadata": {
        "id": "E-L5-XuTgZfu"
      },
      "execution_count": 38,
      "outputs": []
    },
    {
      "cell_type": "code",
      "source": [
        "for estimator in estimators:\n",
        "  scores = cross_val_score(estimator[1],X,y, scoring='r2',cv=10)\n",
        "  print(estimator[0], np.round(np.mean(scores), 2))"
      ],
      "metadata": {
        "colab": {
          "base_uri": "https://localhost:8080/"
        },
        "id": "-YM2SqZ1g94X",
        "outputId": "591d55b5-0834-4c31-9efc-6807db62c2c9"
      },
      "execution_count": null,
      "outputs": [
        {
          "output_type": "stream",
          "name": "stdout",
          "text": [
            "lr 0.51\n",
            "dt 0.22\n"
          ]
        }
      ]
    },
    {
      "cell_type": "code",
      "source": [
        "from sklearn.ensemble import VotingRegressor"
      ],
      "metadata": {
        "id": "XqMv6XsihgMR"
      },
      "execution_count": null,
      "outputs": []
    },
    {
      "cell_type": "code",
      "source": [
        "vr = VotingRegressor(estimators)\n",
        "scores = cross_val_score(vr, X,y, scoring = 'r2', cv = 10)\n",
        "print(np.round(np.mean(scores), 2))"
      ],
      "metadata": {
        "id": "ki-gl86riCh2"
      },
      "execution_count": null,
      "outputs": []
    },
    {
      "cell_type": "markdown",
      "source": [
        "##Voting Classifier"
      ],
      "metadata": {
        "id": "X8A3pNSAmN4O"
      }
    },
    {
      "cell_type": "code",
      "source": [
        "from sklearn.datasets import load_iris\n",
        "iris = load_iris()\n",
        "A = iris.data\n",
        "b = iris.target"
      ],
      "metadata": {
        "id": "uq7RD-fliQwZ"
      },
      "execution_count": null,
      "outputs": []
    },
    {
      "cell_type": "code",
      "source": [
        "from sklearn.linear_model import LogisticRegression\n",
        "from sklearn.tree import DecisionTreeClassifier\n",
        "from sklearn.neighbors import KNeighborsClassifier"
      ],
      "metadata": {
        "id": "-i_A3fWDk0_h"
      },
      "execution_count": null,
      "outputs": []
    },
    {
      "cell_type": "code",
      "source": [
        "clf1 = LogisticRegression()\n",
        "clf2 = DecisionTreeClassifier()\n",
        "clf3 = KNeighborsClassifier()"
      ],
      "metadata": {
        "id": "Uk1hgDT5k1vt"
      },
      "execution_count": null,
      "outputs": []
    },
    {
      "cell_type": "code",
      "source": [
        "estimators = [('lor',clf1),('dt', clf2),('knn',clf3)]"
      ],
      "metadata": {
        "id": "d59nfRVHlwSc"
      },
      "execution_count": null,
      "outputs": []
    },
    {
      "cell_type": "code",
      "source": [
        "from sklearn.ensemble import VotingClassifier"
      ],
      "metadata": {
        "id": "YxvJe1f8mSKu"
      },
      "execution_count": null,
      "outputs": []
    },
    {
      "cell_type": "code",
      "source": [
        "vr1 = VotingClassifier(estimators = estimators, voting='hard')"
      ],
      "metadata": {
        "id": "1fIBe7S0mctx"
      },
      "execution_count": null,
      "outputs": []
    },
    {
      "cell_type": "code",
      "source": [
        "scores = cross_val_score(vr1, A,b, cv= 10, scoring = 'accuracy')\n",
        "print(np.round(np.mean(scores),2))"
      ],
      "metadata": {
        "id": "tO46jgQ8mddp"
      },
      "execution_count": null,
      "outputs": []
    },
    {
      "cell_type": "code",
      "source": [
        "#Soft\n",
        "vr1 = VotingClassifier(estimators = estimators, voting='soft')"
      ],
      "metadata": {
        "id": "3RbllCRGmzw4"
      },
      "execution_count": null,
      "outputs": []
    },
    {
      "cell_type": "code",
      "source": [
        "scores2 = cross_val_score(vr1, A,b, cv= 10, scoring = 'accuracy')\n",
        "print(np.round(np.mean(scores2),2))"
      ],
      "metadata": {
        "id": "S1-AFEi8naW0"
      },
      "execution_count": null,
      "outputs": []
    },
    {
      "cell_type": "code",
      "source": [],
      "metadata": {
        "id": "eQc6qezvnekX"
      },
      "execution_count": null,
      "outputs": []
    }
  ]
}