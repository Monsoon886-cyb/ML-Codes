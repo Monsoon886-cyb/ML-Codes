{
  "nbformat": 4,
  "nbformat_minor": 0,
  "metadata": {
    "colab": {
      "provenance": [],
      "authorship_tag": "ABX9TyM5bvKi7Q5w7CvPUtF3nkm8",
      "include_colab_link": true
    },
    "kernelspec": {
      "name": "python3",
      "display_name": "Python 3"
    },
    "language_info": {
      "name": "python"
    }
  },
  "cells": [
    {
      "cell_type": "markdown",
      "metadata": {
        "id": "view-in-github",
        "colab_type": "text"
      },
      "source": [
        "<a href=\"https://colab.research.google.com/github/Monsoon886-cyb/ML-Codes/blob/main/Mini_Batch_GD.ipynb\" target=\"_parent\"><img src=\"https://colab.research.google.com/assets/colab-badge.svg\" alt=\"Open In Colab\"/></a>"
      ]
    },
    {
      "cell_type": "code",
      "execution_count": null,
      "metadata": {
        "id": "ZKazJL5A3Z8p"
      },
      "outputs": [],
      "source": [
        "import numpy as np\n",
        "import pandas as pd\n",
        "from sklearn.datasets import load_diabetes\n",
        "import random"
      ]
    },
    {
      "cell_type": "code",
      "source": [
        "df = load_diabetes()"
      ],
      "metadata": {
        "id": "2uqJnEgs3gZn"
      },
      "execution_count": null,
      "outputs": []
    },
    {
      "cell_type": "code",
      "source": [
        "x = df.data\n",
        "y = df.target"
      ],
      "metadata": {
        "id": "YOLGO-973jW8"
      },
      "execution_count": null,
      "outputs": []
    },
    {
      "cell_type": "code",
      "source": [
        "from sklearn.model_selection import train_test_split"
      ],
      "metadata": {
        "id": "tJyKjqVV3mAI"
      },
      "execution_count": null,
      "outputs": []
    },
    {
      "cell_type": "code",
      "source": [
        "X_train,X_test,y_train,y_test = train_test_split(x,y,test_size = 0.2, random_state = 42)"
      ],
      "metadata": {
        "id": "KBH6gSgS3ti_"
      },
      "execution_count": null,
      "outputs": []
    },
    {
      "cell_type": "code",
      "source": [
        "class BarbatosM:\n",
        "  def __init__(self, sentoudan, kaisen=50, ryoku=0.01):\n",
        "    self.batch_size = sentoudan\n",
        "    self.epochs = kaisen\n",
        "    self.lR = ryoku\n",
        "    self.intercept = None\n",
        "    self.coeff = None\n",
        "\n",
        "  def awake(self, X_gaku, y_gaku):\n",
        "    self.intercept = 0\n",
        "    self.coeff = np.ones(X_gaku.shape[1])\n",
        "\n",
        "    for i in range(self.epochs):\n",
        "      for j in range(int(X_gaku.shape[0]/self.batch_size)):\n",
        "        idx = random.sample(range(X_gaku.shape[0]),self.batch_size)\n",
        "        y_hat = np.dot(X_gaku[idx], self.coeff)+ self.intercept\n",
        "        josho_inter = -2 * np.mean((y_gaku[idx] - y_hat))\n",
        "        josho_coeff = -2 * np.dot((y_gaku[idx] - y_hat) , X_gaku[idx])\n",
        "        self.intercept = self.intercept - (self.lR * josho_inter)\n",
        "        self.coeff = self.coeff - (self.lR * josho_coeff)\n",
        "\n",
        "    print(self.intercept, self.coeff)\n",
        "\n",
        "  def sento_mode(self, X_ken):\n",
        "    return np.dot(X_ken, self.coeff) + self.intercept"
      ],
      "metadata": {
        "id": "t5riNte939xt"
      },
      "execution_count": null,
      "outputs": []
    },
    {
      "cell_type": "code",
      "source": [
        "brbtM = BarbatosM(sentoudan = int(X_train.shape[0]/10))"
      ],
      "metadata": {
        "id": "NpwY3c2J7Zpf"
      },
      "execution_count": null,
      "outputs": []
    },
    {
      "cell_type": "code",
      "source": [
        "brbtM.awake(X_train,y_train)"
      ],
      "metadata": {
        "colab": {
          "base_uri": "https://localhost:8080/"
        },
        "id": "QXRY5DynCioE",
        "outputId": "dec0f771-658f-4bc2-faad-afadeea5c152"
      },
      "execution_count": null,
      "outputs": [
        {
          "output_type": "stream",
          "name": "stdout",
          "text": [
            "151.92071002468592 [  62.09286302  -91.55164631  372.46870865  247.30683066   -4.86648723\n",
            "  -40.47994719 -181.12427924  149.77847226  281.48447443  150.3560082 ]\n"
          ]
        }
      ]
    },
    {
      "cell_type": "code",
      "source": [
        "from sklearn.metrics import r2_score"
      ],
      "metadata": {
        "id": "SySY0MkPCmF8"
      },
      "execution_count": null,
      "outputs": []
    },
    {
      "cell_type": "code",
      "source": [
        "y_pred = brbtM.sento_mode(X_test)"
      ],
      "metadata": {
        "id": "QMjo_eD6DKNq"
      },
      "execution_count": null,
      "outputs": []
    },
    {
      "cell_type": "code",
      "source": [
        "r2_score(y_test, y_pred)"
      ],
      "metadata": {
        "colab": {
          "base_uri": "https://localhost:8080/"
        },
        "id": "xAk2oYS3DPa8",
        "outputId": "51be00b3-205d-451a-bd1f-060e4563cca3"
      },
      "execution_count": null,
      "outputs": [
        {
          "output_type": "execute_result",
          "data": {
            "text/plain": [
              "0.44611851943268366"
            ]
          },
          "metadata": {},
          "execution_count": 22
        }
      ]
    },
    {
      "cell_type": "code",
      "source": [],
      "metadata": {
        "id": "TKahZpkTDWXU"
      },
      "execution_count": null,
      "outputs": []
    }
  ]
}