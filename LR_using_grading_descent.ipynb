{
  "nbformat": 4,
  "nbformat_minor": 0,
  "metadata": {
    "colab": {
      "provenance": [],
      "authorship_tag": "ABX9TyOVs9v0Cqe5GeH0YhhYOP8z",
      "include_colab_link": true
    },
    "kernelspec": {
      "name": "python3",
      "display_name": "Python 3"
    },
    "language_info": {
      "name": "python"
    }
  },
  "cells": [
    {
      "cell_type": "markdown",
      "metadata": {
        "id": "view-in-github",
        "colab_type": "text"
      },
      "source": [
        "<a href=\"https://colab.research.google.com/github/Monsoon886-cyb/ML-Codes/blob/main/LR_using_grading_descent.ipynb\" target=\"_parent\"><img src=\"https://colab.research.google.com/assets/colab-badge.svg\" alt=\"Open In Colab\"/></a>"
      ]
    },
    {
      "cell_type": "code",
      "execution_count": null,
      "metadata": {
        "id": "on3tFKXZ5laf"
      },
      "outputs": [],
      "source": [
        "from sklearn.datasets import make_regression\n",
        "from sklearn.metrics import r2_score\n",
        "from sklearn.model_selection import train_test_split\n",
        "import numpy as np"
      ]
    },
    {
      "cell_type": "code",
      "source": [
        "class gsdLr:\n",
        "  def __init__(self, learning_rate, epochs):\n",
        "    self.m = 88\n",
        "    self.c = -120\n",
        "    self.learning_rate = learning_rate\n",
        "    self.epochs = epochs\n",
        "\n",
        "  def fit(self,x,y):\n",
        "    for i in range(self.epochs):\n",
        "      loss_slope_c =  -2 * np.sum(y - self.m*x.ravel() - self.c)\n",
        "      loss_slope_m =  -2 * np.sum((y - self.m*x.ravel() - self.c) * x.ravel())\n",
        "      self.c = self.c - self.learning_rate * loss_slope_c\n",
        "      self.m = self.m - self.learning_rate * loss_slope_m\n",
        "    print(self.m,self.c)\n",
        "\n",
        "  def predict(self,x):\n",
        "    return self.m * x + self.c"
      ],
      "metadata": {
        "id": "hgxKoLl06uw4"
      },
      "execution_count": null,
      "outputs": []
    },
    {
      "cell_type": "code",
      "source": [
        "lr = gsdLr(0.001, 55)"
      ],
      "metadata": {
        "id": "nUSHQYV99zTS"
      },
      "execution_count": null,
      "outputs": []
    },
    {
      "cell_type": "code",
      "source": [
        "x, y = make_regression(n_samples=100, n_features=1,n_informative =1,n_targets = 1, noise=20, random_state=42)\n",
        "x_train,x_test,y_train,y_test = train_test_split(x,y,test_size=0.1,random_state=42)"
      ],
      "metadata": {
        "id": "PvnJXNto93UB"
      },
      "execution_count": null,
      "outputs": []
    },
    {
      "cell_type": "code",
      "source": [
        "lr.fit(x_train,y_train)"
      ],
      "metadata": {
        "colab": {
          "base_uri": "https://localhost:8080/"
        },
        "id": "bPJL_zKD_v4D",
        "outputId": "5414b596-c10f-4c1e-e6f5-2193e555e053"
      },
      "execution_count": null,
      "outputs": [
        {
          "output_type": "stream",
          "name": "stdout",
          "text": [
            "46.54341837478322 0.7276022856992326\n"
          ]
        }
      ]
    },
    {
      "cell_type": "code",
      "source": [
        "y_pred = lr.predict(x_test)"
      ],
      "metadata": {
        "id": "zbQhJ43f_wmK"
      },
      "execution_count": null,
      "outputs": []
    },
    {
      "cell_type": "code",
      "source": [
        "r2_score(y_test,y_pred)"
      ],
      "metadata": {
        "colab": {
          "base_uri": "https://localhost:8080/"
        },
        "id": "VrLc429EB3m5",
        "outputId": "283736ee-f5e8-4b78-90de-4936509d5699"
      },
      "execution_count": null,
      "outputs": [
        {
          "output_type": "execute_result",
          "data": {
            "text/plain": [
              "0.8126258426974954"
            ]
          },
          "metadata": {},
          "execution_count": 51
        }
      ]
    },
    {
      "cell_type": "code",
      "source": [],
      "metadata": {
        "id": "M26E4hniB8oz"
      },
      "execution_count": null,
      "outputs": []
    }
  ]
}