{
  "nbformat": 4,
  "nbformat_minor": 0,
  "metadata": {
    "colab": {
      "provenance": [],
      "authorship_tag": "ABX9TyMhXhQAjHHzYPLis+arGgLO",
      "include_colab_link": true
    },
    "kernelspec": {
      "name": "python3",
      "display_name": "Python 3"
    },
    "language_info": {
      "name": "python"
    }
  },
  "cells": [
    {
      "cell_type": "markdown",
      "metadata": {
        "id": "view-in-github",
        "colab_type": "text"
      },
      "source": [
        "<a href=\"https://colab.research.google.com/github/Monsoon886-cyb/ML-Codes/blob/main/LR_using_RR.ipynb\" target=\"_parent\"><img src=\"https://colab.research.google.com/assets/colab-badge.svg\" alt=\"Open In Colab\"/></a>"
      ]
    },
    {
      "cell_type": "code",
      "source": [
        "import numpy as np\n",
        "from sklearn.datasets import load_diabetes"
      ],
      "metadata": {
        "id": "8MtOAXR7G16D"
      },
      "execution_count": null,
      "outputs": []
    },
    {
      "cell_type": "code",
      "execution_count": null,
      "metadata": {
        "id": "84d6CBuaECJO"
      },
      "outputs": [],
      "source": [
        "class RR:\n",
        "  def __init__(self,alpha = 0.1):\n",
        "    self.alpha = alpha\n",
        "    self.coeff = None\n",
        "    self.intercept = None\n",
        "\n",
        "  def awake(self,X_gaku, y_gaku):\n",
        "    if X_gaku.ndim == 1:\n",
        "      X_gaku = X_gaku.reshape(-1, 1)\n",
        "\n",
        "    X_gaku =  np.insert(X_gaku,0,1,axis=1)\n",
        "    I = np.identity(X_gaku.shape[1])\n",
        "    I[0, 0] = 0\n",
        "    result = np.linalg.inv(np.dot(X_gaku.T,X_gaku)+ self.alpha*I).dot(X_gaku.T).dot(y_gaku)\n",
        "    self.intercept = result[0]\n",
        "    self.coeff = result[1:]\n",
        "\n",
        "  def sento_mode(self,X_ken):\n",
        "    if X_ken.ndim == 1:\n",
        "      X_ken = X_ken.reshape(-1, 1)\n",
        "    return np.dot(X_ken,self.coeff)+ self.intercept\n"
      ]
    },
    {
      "cell_type": "code",
      "source": [
        "df = load_diabetes()"
      ],
      "metadata": {
        "id": "pVeuK_IlGvSV"
      },
      "execution_count": null,
      "outputs": []
    },
    {
      "cell_type": "code",
      "source": [
        "x = df.data\n",
        "y = df.target"
      ],
      "metadata": {
        "id": "Ff-hQnFxG9K2"
      },
      "execution_count": null,
      "outputs": []
    },
    {
      "cell_type": "code",
      "source": [
        "from sklearn.model_selection import train_test_split"
      ],
      "metadata": {
        "id": "OlnDdAfuHCqB"
      },
      "execution_count": null,
      "outputs": []
    },
    {
      "cell_type": "code",
      "source": [
        "x_train,x_test,y_train,y_test = train_test_split(x,y,test_size=0.2, random_state=2)"
      ],
      "metadata": {
        "id": "TyIqbJIJHHK0"
      },
      "execution_count": null,
      "outputs": []
    },
    {
      "cell_type": "code",
      "source": [
        "brbt = RR(alpha=0.1)"
      ],
      "metadata": {
        "id": "LTNPk9eGHJnZ"
      },
      "execution_count": null,
      "outputs": []
    },
    {
      "cell_type": "code",
      "source": [
        "brbt.awake(x_train,y_train)"
      ],
      "metadata": {
        "id": "h0AmzVWuHQ94"
      },
      "execution_count": null,
      "outputs": []
    },
    {
      "cell_type": "code",
      "source": [
        "y_pred = brbt.sento_mode(x_test)"
      ],
      "metadata": {
        "id": "gD6lbP7FHVQj"
      },
      "execution_count": null,
      "outputs": []
    },
    {
      "cell_type": "code",
      "source": [
        "from sklearn.metrics import r2_score"
      ],
      "metadata": {
        "id": "BYOMNcUpHjYT"
      },
      "execution_count": null,
      "outputs": []
    },
    {
      "cell_type": "code",
      "source": [
        "r2_score(y_test,y_pred)"
      ],
      "metadata": {
        "colab": {
          "base_uri": "https://localhost:8080/"
        },
        "id": "Xc9kWYmBHmwf",
        "outputId": "8f9fdeca-82eb-4a07-fd6a-26eb4bdea68f"
      },
      "execution_count": null,
      "outputs": [
        {
          "output_type": "execute_result",
          "data": {
            "text/plain": [
              "0.45199494197195456"
            ]
          },
          "metadata": {},
          "execution_count": 78
        }
      ]
    },
    {
      "cell_type": "code",
      "source": [],
      "metadata": {
        "id": "jrLbxMW2Hrga"
      },
      "execution_count": null,
      "outputs": []
    }
  ]
}