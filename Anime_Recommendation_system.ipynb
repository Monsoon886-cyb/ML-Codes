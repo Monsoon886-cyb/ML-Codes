{
  "nbformat": 4,
  "nbformat_minor": 0,
  "metadata": {
    "colab": {
      "provenance": [],
      "authorship_tag": "ABX9TyPu1gFRmKtMHeZ/QQKrMML1",
      "include_colab_link": true
    },
    "kernelspec": {
      "name": "python3",
      "display_name": "Python 3"
    },
    "language_info": {
      "name": "python"
    }
  },
  "cells": [
    {
      "cell_type": "markdown",
      "metadata": {
        "id": "view-in-github",
        "colab_type": "text"
      },
      "source": [
        "<a href=\"https://colab.research.google.com/github/Monsoon886-cyb/ML-Codes/blob/main/Anime_Recommendation_system.ipynb\" target=\"_parent\"><img src=\"https://colab.research.google.com/assets/colab-badge.svg\" alt=\"Open In Colab\"/></a>"
      ]
    },
    {
      "cell_type": "code",
      "execution_count": null,
      "metadata": {
        "id": "h6oW6CB8K-rY"
      },
      "outputs": [],
      "source": [
        "import requests\n",
        "import pandas as pd\n",
        "import time"
      ]
    },
    {
      "cell_type": "code",
      "source": [
        "def fetch_anime_data(limit):\n",
        "  anime_list = []\n",
        "  page = 1\n",
        "\n",
        "  while len(anime_list) < limit:\n",
        "    response = requests.get(f\"https://api.jikan.moe/v4/top/anime?page={page}\")\n",
        "\n",
        "    if response.status_code == 200:\n",
        "      data = response.json()['data']\n",
        "      anime_list.extend(data)  # Use extend to add items to the list\n",
        "    else:\n",
        "      print(f\"Error fetching data from page {page}: Status code {response.status_code}\")\n",
        "\n",
        "\n",
        "    page += 1\n",
        "    time.sleep(1)\n",
        "  return anime_list\n"
      ],
      "metadata": {
        "id": "eDXbbBBSLY47"
      },
      "execution_count": null,
      "outputs": []
    },
    {
      "cell_type": "code",
      "source": [
        "anime =  fetch_anime_data(10000)"
      ],
      "metadata": {
        "id": "osBEUoY8_fTU"
      },
      "execution_count": null,
      "outputs": []
    },
    {
      "cell_type": "code",
      "source": [
        "anime = pd.DataFrame(anime)\n",
        "anime.to_csv(\"anime_data.csv\", index=False)"
      ],
      "metadata": {
        "id": "MjGO9CLe_m1L"
      },
      "execution_count": null,
      "outputs": []
    },
    {
      "cell_type": "markdown",
      "source": [],
      "metadata": {
        "id": "M24KWFZCGa4n"
      }
    },
    {
      "cell_type": "code",
      "source": [
        "anime_df = pd.read_csv('/content/anime_data (1).csv')"
      ],
      "metadata": {
        "id": "18_Y5gLoShmC"
      },
      "execution_count": null,
      "outputs": []
    },
    {
      "cell_type": "code",
      "source": [
        "anime_df = anime_df[['mal_id','title','title_english','title_synonyms','studios','genres','explicit_genres','themes','demographics']]\n"
      ],
      "metadata": {
        "id": "azJIJ_wbSi7x"
      },
      "execution_count": null,
      "outputs": []
    },
    {
      "cell_type": "code",
      "source": [
        "anime_df.iloc[1].demographics"
      ],
      "metadata": {
        "id": "43gsj5k4iydT",
        "colab": {
          "base_uri": "https://localhost:8080/",
          "height": 36
        },
        "outputId": "96906108-e431-43ee-e765-873ee914884e"
      },
      "execution_count": null,
      "outputs": [
        {
          "output_type": "execute_result",
          "data": {
            "text/plain": [
              "\"[{'mal_id': 27, 'type': 'anime', 'name': 'Shounen', 'url': 'https://myanimelist.net/anime/genre/27/Shounen'}]\""
            ],
            "application/vnd.google.colaboratory.intrinsic+json": {
              "type": "string"
            }
          },
          "metadata": {},
          "execution_count": 10
        }
      ]
    },
    {
      "cell_type": "code",
      "source": [
        "import ast"
      ],
      "metadata": {
        "id": "tYDLsqSqW_zT"
      },
      "execution_count": null,
      "outputs": []
    },
    {
      "cell_type": "code",
      "source": [
        "anime_df['title_synonyms']=anime_df['title_synonyms'].apply(lambda x: ast.literal_eval(x) if pd.notna(x) else [])\n"
      ],
      "metadata": {
        "id": "B9Q9fpuqcLyM"
      },
      "execution_count": null,
      "outputs": []
    },
    {
      "cell_type": "code",
      "source": [
        "def filter(obj):\n",
        "  L=[]\n",
        "  if pd.notna(obj):\n",
        "    obj = ast.literal_eval(obj)\n",
        "  else:\n",
        "    []\n",
        "  if len(obj)>0:\n",
        "    for i in obj:\n",
        "      L.append(i['name'])\n",
        "  return L"
      ],
      "metadata": {
        "id": "v5Y15-DLcUGd"
      },
      "execution_count": null,
      "outputs": []
    },
    {
      "cell_type": "code",
      "source": [
        "anime_df['studios'] = anime_df['studios'].apply(filter)\n",
        "anime_df['genres'] = anime_df['genres'].apply(filter)\n",
        "anime_df['explicit_genres'] = anime_df['explicit_genres'].apply(filter)\n",
        "anime_df['themes'] = anime_df['themes'].apply(filter)\n",
        "anime_df['demographics'] = anime_df['demographics'].apply(filter)"
      ],
      "metadata": {
        "id": "dQZ7NmXNeSRu"
      },
      "execution_count": null,
      "outputs": []
    },
    {
      "cell_type": "code",
      "source": [
        "def imp_titles(x, y):\n",
        "    for i in range(len(anime_df)):\n",
        "        if pd.isna(anime_df.at[i, x]):\n",
        "            anime_df.at[i, x] = anime_df.at[i, y]\n",
        "    return anime_df[x]"
      ],
      "metadata": {
        "id": "V8Konyd1iXQf"
      },
      "execution_count": null,
      "outputs": []
    },
    {
      "cell_type": "code",
      "source": [
        "anime_df['title1'] = imp_titles('title_english','title')"
      ],
      "metadata": {
        "id": "10nrTW3OmOxH"
      },
      "execution_count": null,
      "outputs": []
    },
    {
      "cell_type": "code",
      "source": [
        "anime_df"
      ],
      "metadata": {
        "colab": {
          "base_uri": "https://localhost:8080/",
          "height": 684
        },
        "id": "mGnJVBAF2eSJ",
        "outputId": "d1f597b2-076d-426b-8634-53c0d50aa033"
      },
      "execution_count": null,
      "outputs": [
        {
          "output_type": "execute_result",
          "data": {
            "text/plain": [
              "      mal_id                               title  \\\n",
              "0      52991                   Sousou no Frieren   \n",
              "1       5114    Fullmetal Alchemist: Brotherhood   \n",
              "2       9253                         Steins;Gate   \n",
              "3      60022                One Piece Fan Letter   \n",
              "4      38524  Shingeki no Kyojin Season 3 Part 2   \n",
              "...      ...                                 ...   \n",
              "9995    3011                           Yotsunoha   \n",
              "9996   49014                   Daisan no Shinzou   \n",
              "9997     835            Sister Princess: Re Pure   \n",
              "9998    2791                     Makasete Iruka!   \n",
              "9999   15607  Ai no Wakakusa Monogatari Specials   \n",
              "\n",
              "                           title_english  \\\n",
              "0          Frieren: Beyond Journey's End   \n",
              "1       Fullmetal Alchemist: Brotherhood   \n",
              "2                            Steins;Gate   \n",
              "3                   One Piece Fan Letter   \n",
              "4        Attack on Titan Season 3 Part 2   \n",
              "...                                  ...   \n",
              "9995                           Yotsunoha   \n",
              "9996                     The Third Heart   \n",
              "9997            Sister Princess: Re Pure   \n",
              "9998                         Grrl Power!   \n",
              "9999  Ai no Wakakusa Monogatari Specials   \n",
              "\n",
              "                                         title_synonyms             studios  \\\n",
              "0          [Frieren at the Funeral, Frieren The Slayer]          [Madhouse]   \n",
              "1     [Hagane no Renkinjutsushi: Fullmetal Alchemist...             [Bones]   \n",
              "2                                                    []         [White Fox]   \n",
              "3                                                    []    [Toei Animation]   \n",
              "4                                                    []        [Wit Studio]   \n",
              "...                                                 ...                 ...   \n",
              "9995                                                 []    [HAL Film Maker]   \n",
              "9996                                                 []      [Studio Gohan]   \n",
              "9997                           [Sister Princess Repure]             [Zexcs]   \n",
              "9998                                                 []  [CoMix Wave Films]   \n",
              "9999  [Sekai Meisaku Gekijou Kanketsu Ban: Ai no Wak...  [Nippon Animation]   \n",
              "\n",
              "                                   genres explicit_genres  \\\n",
              "0             [Adventure, Drama, Fantasy]              []   \n",
              "1     [Action, Adventure, Drama, Fantasy]              []   \n",
              "2               [Drama, Sci-Fi, Suspense]              []   \n",
              "3            [Action, Adventure, Fantasy]              []   \n",
              "4               [Action, Drama, Suspense]              []   \n",
              "...                                   ...             ...   \n",
              "9995                            [Romance]              []   \n",
              "9996                                   []              []   \n",
              "9997                     [Drama, Romance]              []   \n",
              "9998      [Action, Award Winning, Comedy]              []   \n",
              "9999               [Drama, Slice of Life]              []   \n",
              "\n",
              "                            themes demographics  \\\n",
              "0                               []    [Shounen]   \n",
              "1                       [Military]    [Shounen]   \n",
              "2     [Psychological, Time Travel]           []   \n",
              "3                               []    [Shounen]   \n",
              "4       [Gore, Military, Survival]    [Shounen]   \n",
              "...                            ...          ...   \n",
              "9995                      [School]           []   \n",
              "9996                       [Music]           []   \n",
              "9997                       [Harem]           []   \n",
              "9998                      [School]           []   \n",
              "9999                  [Historical]           []   \n",
              "\n",
              "                                  title1  \n",
              "0          Frieren: Beyond Journey's End  \n",
              "1       Fullmetal Alchemist: Brotherhood  \n",
              "2                            Steins;Gate  \n",
              "3                   One Piece Fan Letter  \n",
              "4        Attack on Titan Season 3 Part 2  \n",
              "...                                  ...  \n",
              "9995                           Yotsunoha  \n",
              "9996                     The Third Heart  \n",
              "9997            Sister Princess: Re Pure  \n",
              "9998                         Grrl Power!  \n",
              "9999  Ai no Wakakusa Monogatari Specials  \n",
              "\n",
              "[10000 rows x 10 columns]"
            ],
            "text/html": [
              "\n",
              "  <div id=\"df-c560279b-0bff-4e82-acfd-c84806e5979a\" class=\"colab-df-container\">\n",
              "    <div>\n",
              "<style scoped>\n",
              "    .dataframe tbody tr th:only-of-type {\n",
              "        vertical-align: middle;\n",
              "    }\n",
              "\n",
              "    .dataframe tbody tr th {\n",
              "        vertical-align: top;\n",
              "    }\n",
              "\n",
              "    .dataframe thead th {\n",
              "        text-align: right;\n",
              "    }\n",
              "</style>\n",
              "<table border=\"1\" class=\"dataframe\">\n",
              "  <thead>\n",
              "    <tr style=\"text-align: right;\">\n",
              "      <th></th>\n",
              "      <th>mal_id</th>\n",
              "      <th>title</th>\n",
              "      <th>title_english</th>\n",
              "      <th>title_synonyms</th>\n",
              "      <th>studios</th>\n",
              "      <th>genres</th>\n",
              "      <th>explicit_genres</th>\n",
              "      <th>themes</th>\n",
              "      <th>demographics</th>\n",
              "      <th>title1</th>\n",
              "    </tr>\n",
              "  </thead>\n",
              "  <tbody>\n",
              "    <tr>\n",
              "      <th>0</th>\n",
              "      <td>52991</td>\n",
              "      <td>Sousou no Frieren</td>\n",
              "      <td>Frieren: Beyond Journey's End</td>\n",
              "      <td>[Frieren at the Funeral, Frieren The Slayer]</td>\n",
              "      <td>[Madhouse]</td>\n",
              "      <td>[Adventure, Drama, Fantasy]</td>\n",
              "      <td>[]</td>\n",
              "      <td>[]</td>\n",
              "      <td>[Shounen]</td>\n",
              "      <td>Frieren: Beyond Journey's End</td>\n",
              "    </tr>\n",
              "    <tr>\n",
              "      <th>1</th>\n",
              "      <td>5114</td>\n",
              "      <td>Fullmetal Alchemist: Brotherhood</td>\n",
              "      <td>Fullmetal Alchemist: Brotherhood</td>\n",
              "      <td>[Hagane no Renkinjutsushi: Fullmetal Alchemist...</td>\n",
              "      <td>[Bones]</td>\n",
              "      <td>[Action, Adventure, Drama, Fantasy]</td>\n",
              "      <td>[]</td>\n",
              "      <td>[Military]</td>\n",
              "      <td>[Shounen]</td>\n",
              "      <td>Fullmetal Alchemist: Brotherhood</td>\n",
              "    </tr>\n",
              "    <tr>\n",
              "      <th>2</th>\n",
              "      <td>9253</td>\n",
              "      <td>Steins;Gate</td>\n",
              "      <td>Steins;Gate</td>\n",
              "      <td>[]</td>\n",
              "      <td>[White Fox]</td>\n",
              "      <td>[Drama, Sci-Fi, Suspense]</td>\n",
              "      <td>[]</td>\n",
              "      <td>[Psychological, Time Travel]</td>\n",
              "      <td>[]</td>\n",
              "      <td>Steins;Gate</td>\n",
              "    </tr>\n",
              "    <tr>\n",
              "      <th>3</th>\n",
              "      <td>60022</td>\n",
              "      <td>One Piece Fan Letter</td>\n",
              "      <td>One Piece Fan Letter</td>\n",
              "      <td>[]</td>\n",
              "      <td>[Toei Animation]</td>\n",
              "      <td>[Action, Adventure, Fantasy]</td>\n",
              "      <td>[]</td>\n",
              "      <td>[]</td>\n",
              "      <td>[Shounen]</td>\n",
              "      <td>One Piece Fan Letter</td>\n",
              "    </tr>\n",
              "    <tr>\n",
              "      <th>4</th>\n",
              "      <td>38524</td>\n",
              "      <td>Shingeki no Kyojin Season 3 Part 2</td>\n",
              "      <td>Attack on Titan Season 3 Part 2</td>\n",
              "      <td>[]</td>\n",
              "      <td>[Wit Studio]</td>\n",
              "      <td>[Action, Drama, Suspense]</td>\n",
              "      <td>[]</td>\n",
              "      <td>[Gore, Military, Survival]</td>\n",
              "      <td>[Shounen]</td>\n",
              "      <td>Attack on Titan Season 3 Part 2</td>\n",
              "    </tr>\n",
              "    <tr>\n",
              "      <th>...</th>\n",
              "      <td>...</td>\n",
              "      <td>...</td>\n",
              "      <td>...</td>\n",
              "      <td>...</td>\n",
              "      <td>...</td>\n",
              "      <td>...</td>\n",
              "      <td>...</td>\n",
              "      <td>...</td>\n",
              "      <td>...</td>\n",
              "      <td>...</td>\n",
              "    </tr>\n",
              "    <tr>\n",
              "      <th>9995</th>\n",
              "      <td>3011</td>\n",
              "      <td>Yotsunoha</td>\n",
              "      <td>Yotsunoha</td>\n",
              "      <td>[]</td>\n",
              "      <td>[HAL Film Maker]</td>\n",
              "      <td>[Romance]</td>\n",
              "      <td>[]</td>\n",
              "      <td>[School]</td>\n",
              "      <td>[]</td>\n",
              "      <td>Yotsunoha</td>\n",
              "    </tr>\n",
              "    <tr>\n",
              "      <th>9996</th>\n",
              "      <td>49014</td>\n",
              "      <td>Daisan no Shinzou</td>\n",
              "      <td>The Third Heart</td>\n",
              "      <td>[]</td>\n",
              "      <td>[Studio Gohan]</td>\n",
              "      <td>[]</td>\n",
              "      <td>[]</td>\n",
              "      <td>[Music]</td>\n",
              "      <td>[]</td>\n",
              "      <td>The Third Heart</td>\n",
              "    </tr>\n",
              "    <tr>\n",
              "      <th>9997</th>\n",
              "      <td>835</td>\n",
              "      <td>Sister Princess: Re Pure</td>\n",
              "      <td>Sister Princess: Re Pure</td>\n",
              "      <td>[Sister Princess Repure]</td>\n",
              "      <td>[Zexcs]</td>\n",
              "      <td>[Drama, Romance]</td>\n",
              "      <td>[]</td>\n",
              "      <td>[Harem]</td>\n",
              "      <td>[]</td>\n",
              "      <td>Sister Princess: Re Pure</td>\n",
              "    </tr>\n",
              "    <tr>\n",
              "      <th>9998</th>\n",
              "      <td>2791</td>\n",
              "      <td>Makasete Iruka!</td>\n",
              "      <td>Grrl Power!</td>\n",
              "      <td>[]</td>\n",
              "      <td>[CoMix Wave Films]</td>\n",
              "      <td>[Action, Award Winning, Comedy]</td>\n",
              "      <td>[]</td>\n",
              "      <td>[School]</td>\n",
              "      <td>[]</td>\n",
              "      <td>Grrl Power!</td>\n",
              "    </tr>\n",
              "    <tr>\n",
              "      <th>9999</th>\n",
              "      <td>15607</td>\n",
              "      <td>Ai no Wakakusa Monogatari Specials</td>\n",
              "      <td>Ai no Wakakusa Monogatari Specials</td>\n",
              "      <td>[Sekai Meisaku Gekijou Kanketsu Ban: Ai no Wak...</td>\n",
              "      <td>[Nippon Animation]</td>\n",
              "      <td>[Drama, Slice of Life]</td>\n",
              "      <td>[]</td>\n",
              "      <td>[Historical]</td>\n",
              "      <td>[]</td>\n",
              "      <td>Ai no Wakakusa Monogatari Specials</td>\n",
              "    </tr>\n",
              "  </tbody>\n",
              "</table>\n",
              "<p>10000 rows × 10 columns</p>\n",
              "</div>\n",
              "    <div class=\"colab-df-buttons\">\n",
              "\n",
              "  <div class=\"colab-df-container\">\n",
              "    <button class=\"colab-df-convert\" onclick=\"convertToInteractive('df-c560279b-0bff-4e82-acfd-c84806e5979a')\"\n",
              "            title=\"Convert this dataframe to an interactive table.\"\n",
              "            style=\"display:none;\">\n",
              "\n",
              "  <svg xmlns=\"http://www.w3.org/2000/svg\" height=\"24px\" viewBox=\"0 -960 960 960\">\n",
              "    <path d=\"M120-120v-720h720v720H120Zm60-500h600v-160H180v160Zm220 220h160v-160H400v160Zm0 220h160v-160H400v160ZM180-400h160v-160H180v160Zm440 0h160v-160H620v160ZM180-180h160v-160H180v160Zm440 0h160v-160H620v160Z\"/>\n",
              "  </svg>\n",
              "    </button>\n",
              "\n",
              "  <style>\n",
              "    .colab-df-container {\n",
              "      display:flex;\n",
              "      gap: 12px;\n",
              "    }\n",
              "\n",
              "    .colab-df-convert {\n",
              "      background-color: #E8F0FE;\n",
              "      border: none;\n",
              "      border-radius: 50%;\n",
              "      cursor: pointer;\n",
              "      display: none;\n",
              "      fill: #1967D2;\n",
              "      height: 32px;\n",
              "      padding: 0 0 0 0;\n",
              "      width: 32px;\n",
              "    }\n",
              "\n",
              "    .colab-df-convert:hover {\n",
              "      background-color: #E2EBFA;\n",
              "      box-shadow: 0px 1px 2px rgba(60, 64, 67, 0.3), 0px 1px 3px 1px rgba(60, 64, 67, 0.15);\n",
              "      fill: #174EA6;\n",
              "    }\n",
              "\n",
              "    .colab-df-buttons div {\n",
              "      margin-bottom: 4px;\n",
              "    }\n",
              "\n",
              "    [theme=dark] .colab-df-convert {\n",
              "      background-color: #3B4455;\n",
              "      fill: #D2E3FC;\n",
              "    }\n",
              "\n",
              "    [theme=dark] .colab-df-convert:hover {\n",
              "      background-color: #434B5C;\n",
              "      box-shadow: 0px 1px 3px 1px rgba(0, 0, 0, 0.15);\n",
              "      filter: drop-shadow(0px 1px 2px rgba(0, 0, 0, 0.3));\n",
              "      fill: #FFFFFF;\n",
              "    }\n",
              "  </style>\n",
              "\n",
              "    <script>\n",
              "      const buttonEl =\n",
              "        document.querySelector('#df-c560279b-0bff-4e82-acfd-c84806e5979a button.colab-df-convert');\n",
              "      buttonEl.style.display =\n",
              "        google.colab.kernel.accessAllowed ? 'block' : 'none';\n",
              "\n",
              "      async function convertToInteractive(key) {\n",
              "        const element = document.querySelector('#df-c560279b-0bff-4e82-acfd-c84806e5979a');\n",
              "        const dataTable =\n",
              "          await google.colab.kernel.invokeFunction('convertToInteractive',\n",
              "                                                    [key], {});\n",
              "        if (!dataTable) return;\n",
              "\n",
              "        const docLinkHtml = 'Like what you see? Visit the ' +\n",
              "          '<a target=\"_blank\" href=https://colab.research.google.com/notebooks/data_table.ipynb>data table notebook</a>'\n",
              "          + ' to learn more about interactive tables.';\n",
              "        element.innerHTML = '';\n",
              "        dataTable['output_type'] = 'display_data';\n",
              "        await google.colab.output.renderOutput(dataTable, element);\n",
              "        const docLink = document.createElement('div');\n",
              "        docLink.innerHTML = docLinkHtml;\n",
              "        element.appendChild(docLink);\n",
              "      }\n",
              "    </script>\n",
              "  </div>\n",
              "\n",
              "\n",
              "    <div id=\"df-afe42110-d36e-4104-92d0-d2245e1337e1\">\n",
              "      <button class=\"colab-df-quickchart\" onclick=\"quickchart('df-afe42110-d36e-4104-92d0-d2245e1337e1')\"\n",
              "                title=\"Suggest charts\"\n",
              "                style=\"display:none;\">\n",
              "\n",
              "<svg xmlns=\"http://www.w3.org/2000/svg\" height=\"24px\"viewBox=\"0 0 24 24\"\n",
              "     width=\"24px\">\n",
              "    <g>\n",
              "        <path d=\"M19 3H5c-1.1 0-2 .9-2 2v14c0 1.1.9 2 2 2h14c1.1 0 2-.9 2-2V5c0-1.1-.9-2-2-2zM9 17H7v-7h2v7zm4 0h-2V7h2v10zm4 0h-2v-4h2v4z\"/>\n",
              "    </g>\n",
              "</svg>\n",
              "      </button>\n",
              "\n",
              "<style>\n",
              "  .colab-df-quickchart {\n",
              "      --bg-color: #E8F0FE;\n",
              "      --fill-color: #1967D2;\n",
              "      --hover-bg-color: #E2EBFA;\n",
              "      --hover-fill-color: #174EA6;\n",
              "      --disabled-fill-color: #AAA;\n",
              "      --disabled-bg-color: #DDD;\n",
              "  }\n",
              "\n",
              "  [theme=dark] .colab-df-quickchart {\n",
              "      --bg-color: #3B4455;\n",
              "      --fill-color: #D2E3FC;\n",
              "      --hover-bg-color: #434B5C;\n",
              "      --hover-fill-color: #FFFFFF;\n",
              "      --disabled-bg-color: #3B4455;\n",
              "      --disabled-fill-color: #666;\n",
              "  }\n",
              "\n",
              "  .colab-df-quickchart {\n",
              "    background-color: var(--bg-color);\n",
              "    border: none;\n",
              "    border-radius: 50%;\n",
              "    cursor: pointer;\n",
              "    display: none;\n",
              "    fill: var(--fill-color);\n",
              "    height: 32px;\n",
              "    padding: 0;\n",
              "    width: 32px;\n",
              "  }\n",
              "\n",
              "  .colab-df-quickchart:hover {\n",
              "    background-color: var(--hover-bg-color);\n",
              "    box-shadow: 0 1px 2px rgba(60, 64, 67, 0.3), 0 1px 3px 1px rgba(60, 64, 67, 0.15);\n",
              "    fill: var(--button-hover-fill-color);\n",
              "  }\n",
              "\n",
              "  .colab-df-quickchart-complete:disabled,\n",
              "  .colab-df-quickchart-complete:disabled:hover {\n",
              "    background-color: var(--disabled-bg-color);\n",
              "    fill: var(--disabled-fill-color);\n",
              "    box-shadow: none;\n",
              "  }\n",
              "\n",
              "  .colab-df-spinner {\n",
              "    border: 2px solid var(--fill-color);\n",
              "    border-color: transparent;\n",
              "    border-bottom-color: var(--fill-color);\n",
              "    animation:\n",
              "      spin 1s steps(1) infinite;\n",
              "  }\n",
              "\n",
              "  @keyframes spin {\n",
              "    0% {\n",
              "      border-color: transparent;\n",
              "      border-bottom-color: var(--fill-color);\n",
              "      border-left-color: var(--fill-color);\n",
              "    }\n",
              "    20% {\n",
              "      border-color: transparent;\n",
              "      border-left-color: var(--fill-color);\n",
              "      border-top-color: var(--fill-color);\n",
              "    }\n",
              "    30% {\n",
              "      border-color: transparent;\n",
              "      border-left-color: var(--fill-color);\n",
              "      border-top-color: var(--fill-color);\n",
              "      border-right-color: var(--fill-color);\n",
              "    }\n",
              "    40% {\n",
              "      border-color: transparent;\n",
              "      border-right-color: var(--fill-color);\n",
              "      border-top-color: var(--fill-color);\n",
              "    }\n",
              "    60% {\n",
              "      border-color: transparent;\n",
              "      border-right-color: var(--fill-color);\n",
              "    }\n",
              "    80% {\n",
              "      border-color: transparent;\n",
              "      border-right-color: var(--fill-color);\n",
              "      border-bottom-color: var(--fill-color);\n",
              "    }\n",
              "    90% {\n",
              "      border-color: transparent;\n",
              "      border-bottom-color: var(--fill-color);\n",
              "    }\n",
              "  }\n",
              "</style>\n",
              "\n",
              "      <script>\n",
              "        async function quickchart(key) {\n",
              "          const quickchartButtonEl =\n",
              "            document.querySelector('#' + key + ' button');\n",
              "          quickchartButtonEl.disabled = true;  // To prevent multiple clicks.\n",
              "          quickchartButtonEl.classList.add('colab-df-spinner');\n",
              "          try {\n",
              "            const charts = await google.colab.kernel.invokeFunction(\n",
              "                'suggestCharts', [key], {});\n",
              "          } catch (error) {\n",
              "            console.error('Error during call to suggestCharts:', error);\n",
              "          }\n",
              "          quickchartButtonEl.classList.remove('colab-df-spinner');\n",
              "          quickchartButtonEl.classList.add('colab-df-quickchart-complete');\n",
              "        }\n",
              "        (() => {\n",
              "          let quickchartButtonEl =\n",
              "            document.querySelector('#df-afe42110-d36e-4104-92d0-d2245e1337e1 button');\n",
              "          quickchartButtonEl.style.display =\n",
              "            google.colab.kernel.accessAllowed ? 'block' : 'none';\n",
              "        })();\n",
              "      </script>\n",
              "    </div>\n",
              "\n",
              "  <div id=\"id_efee78a5-d37e-4493-a109-f3d39bf559fe\">\n",
              "    <style>\n",
              "      .colab-df-generate {\n",
              "        background-color: #E8F0FE;\n",
              "        border: none;\n",
              "        border-radius: 50%;\n",
              "        cursor: pointer;\n",
              "        display: none;\n",
              "        fill: #1967D2;\n",
              "        height: 32px;\n",
              "        padding: 0 0 0 0;\n",
              "        width: 32px;\n",
              "      }\n",
              "\n",
              "      .colab-df-generate:hover {\n",
              "        background-color: #E2EBFA;\n",
              "        box-shadow: 0px 1px 2px rgba(60, 64, 67, 0.3), 0px 1px 3px 1px rgba(60, 64, 67, 0.15);\n",
              "        fill: #174EA6;\n",
              "      }\n",
              "\n",
              "      [theme=dark] .colab-df-generate {\n",
              "        background-color: #3B4455;\n",
              "        fill: #D2E3FC;\n",
              "      }\n",
              "\n",
              "      [theme=dark] .colab-df-generate:hover {\n",
              "        background-color: #434B5C;\n",
              "        box-shadow: 0px 1px 3px 1px rgba(0, 0, 0, 0.15);\n",
              "        filter: drop-shadow(0px 1px 2px rgba(0, 0, 0, 0.3));\n",
              "        fill: #FFFFFF;\n",
              "      }\n",
              "    </style>\n",
              "    <button class=\"colab-df-generate\" onclick=\"generateWithVariable('anime_df')\"\n",
              "            title=\"Generate code using this dataframe.\"\n",
              "            style=\"display:none;\">\n",
              "\n",
              "  <svg xmlns=\"http://www.w3.org/2000/svg\" height=\"24px\"viewBox=\"0 0 24 24\"\n",
              "       width=\"24px\">\n",
              "    <path d=\"M7,19H8.4L18.45,9,17,7.55,7,17.6ZM5,21V16.75L18.45,3.32a2,2,0,0,1,2.83,0l1.4,1.43a1.91,1.91,0,0,1,.58,1.4,1.91,1.91,0,0,1-.58,1.4L9.25,21ZM18.45,9,17,7.55Zm-12,3A5.31,5.31,0,0,0,4.9,8.1,5.31,5.31,0,0,0,1,6.5,5.31,5.31,0,0,0,4.9,4.9,5.31,5.31,0,0,0,6.5,1,5.31,5.31,0,0,0,8.1,4.9,5.31,5.31,0,0,0,12,6.5,5.46,5.46,0,0,0,6.5,12Z\"/>\n",
              "  </svg>\n",
              "    </button>\n",
              "    <script>\n",
              "      (() => {\n",
              "      const buttonEl =\n",
              "        document.querySelector('#id_efee78a5-d37e-4493-a109-f3d39bf559fe button.colab-df-generate');\n",
              "      buttonEl.style.display =\n",
              "        google.colab.kernel.accessAllowed ? 'block' : 'none';\n",
              "\n",
              "      buttonEl.onclick = () => {\n",
              "        google.colab.notebook.generateWithVariable('anime_df');\n",
              "      }\n",
              "      })();\n",
              "    </script>\n",
              "  </div>\n",
              "\n",
              "    </div>\n",
              "  </div>\n"
            ],
            "application/vnd.google.colaboratory.intrinsic+json": {
              "type": "dataframe",
              "variable_name": "anime_df",
              "summary": "{\n  \"name\": \"anime_df\",\n  \"rows\": 10000,\n  \"fields\": [\n    {\n      \"column\": \"mal_id\",\n      \"properties\": {\n        \"dtype\": \"number\",\n        \"std\": 20054,\n        \"min\": 1,\n        \"max\": 61393,\n        \"num_unique_values\": 9958,\n        \"samples\": [\n          3102,\n          12823,\n          1549\n        ],\n        \"semantic_type\": \"\",\n        \"description\": \"\"\n      }\n    },\n    {\n      \"column\": \"title\",\n      \"properties\": {\n        \"dtype\": \"string\",\n        \"num_unique_values\": 9957,\n        \"samples\": [\n          \"Fei Ren Zai\",\n          \"Koi Kaze\",\n          \"Ai Tenshi Densetsu Wedding Peach\"\n        ],\n        \"semantic_type\": \"\",\n        \"description\": \"\"\n      }\n    },\n    {\n      \"column\": \"title_english\",\n      \"properties\": {\n        \"dtype\": \"string\",\n        \"num_unique_values\": 9860,\n        \"samples\": [\n          \"Oide yo! Shiritsu Yarimakuri Gakuen\",\n          \"Gintama': Futon ni Haitte kara Buki Nokoshi ni Kizuite Neru ni Nerenai Toki mo Aru\",\n          \"Rumble Garanndoll\"\n        ],\n        \"semantic_type\": \"\",\n        \"description\": \"\"\n      }\n    },\n    {\n      \"column\": \"title_synonyms\",\n      \"properties\": {\n        \"dtype\": \"object\",\n        \"semantic_type\": \"\",\n        \"description\": \"\"\n      }\n    },\n    {\n      \"column\": \"studios\",\n      \"properties\": {\n        \"dtype\": \"object\",\n        \"semantic_type\": \"\",\n        \"description\": \"\"\n      }\n    },\n    {\n      \"column\": \"genres\",\n      \"properties\": {\n        \"dtype\": \"object\",\n        \"semantic_type\": \"\",\n        \"description\": \"\"\n      }\n    },\n    {\n      \"column\": \"explicit_genres\",\n      \"properties\": {\n        \"dtype\": \"object\",\n        \"semantic_type\": \"\",\n        \"description\": \"\"\n      }\n    },\n    {\n      \"column\": \"themes\",\n      \"properties\": {\n        \"dtype\": \"object\",\n        \"semantic_type\": \"\",\n        \"description\": \"\"\n      }\n    },\n    {\n      \"column\": \"demographics\",\n      \"properties\": {\n        \"dtype\": \"object\",\n        \"semantic_type\": \"\",\n        \"description\": \"\"\n      }\n    },\n    {\n      \"column\": \"title1\",\n      \"properties\": {\n        \"dtype\": \"string\",\n        \"num_unique_values\": 9860,\n        \"samples\": [\n          \"Oide yo! Shiritsu Yarimakuri Gakuen\",\n          \"Gintama': Futon ni Haitte kara Buki Nokoshi ni Kizuite Neru ni Nerenai Toki mo Aru\",\n          \"Rumble Garanndoll\"\n        ],\n        \"semantic_type\": \"\",\n        \"description\": \"\"\n      }\n    }\n  ]\n}"
            }
          },
          "metadata": {},
          "execution_count": 17
        }
      ]
    },
    {
      "cell_type": "code",
      "source": [
        "def split_sen(obj):\n",
        "  results = []\n",
        "  for s in obj:\n",
        "    results += s.split(\" \")\n",
        "  return results"
      ],
      "metadata": {
        "id": "2pUVhDdCqEQe"
      },
      "execution_count": null,
      "outputs": []
    },
    {
      "cell_type": "code",
      "source": [
        "anime_df['title_synonyms']=anime_df['title_synonyms'].apply(split_sen)"
      ],
      "metadata": {
        "id": "38_Df35LsTCv"
      },
      "execution_count": null,
      "outputs": []
    },
    {
      "cell_type": "code",
      "source": [
        "anime_df['themes']=anime_df['themes'].apply(lambda x : [i.replace(\" \",\"\") for i in x])"
      ],
      "metadata": {
        "id": "JLIQbhM4slW-"
      },
      "execution_count": null,
      "outputs": []
    },
    {
      "cell_type": "code",
      "source": [
        "anime_df['studios']=anime_df['studios'].apply(lambda x : [i.replace(\" \",\"\") for i in x])"
      ],
      "metadata": {
        "id": "mOTQYiK25mlw"
      },
      "execution_count": null,
      "outputs": []
    },
    {
      "cell_type": "code",
      "source": [
        "anime_df['tags'] = anime_df['title_synonyms']+anime_df['themes']+anime_df['studios']+anime_df['genres']+anime_df['explicit_genres']+anime_df['demographics']"
      ],
      "metadata": {
        "id": "Z5GY38U96z4V"
      },
      "execution_count": null,
      "outputs": []
    },
    {
      "cell_type": "code",
      "source": [
        "anime_df = anime_df[['mal_id','title1','tags']]"
      ],
      "metadata": {
        "id": "aoCgk7Oo55ZB"
      },
      "execution_count": null,
      "outputs": []
    },
    {
      "cell_type": "code",
      "source": [
        "anime_df['tags'] = anime_df['tags'].apply(lambda x : \" \".join(x))"
      ],
      "metadata": {
        "colab": {
          "base_uri": "https://localhost:8080/"
        },
        "id": "gfcWl0Xe9BOj",
        "outputId": "fdc3b2cf-7b25-4867-f6a8-797f6c76f2a2"
      },
      "execution_count": null,
      "outputs": [
        {
          "output_type": "stream",
          "name": "stderr",
          "text": [
            "<ipython-input-24-8cc391e44aaf>:1: SettingWithCopyWarning: \n",
            "A value is trying to be set on a copy of a slice from a DataFrame.\n",
            "Try using .loc[row_indexer,col_indexer] = value instead\n",
            "\n",
            "See the caveats in the documentation: https://pandas.pydata.org/pandas-docs/stable/user_guide/indexing.html#returning-a-view-versus-a-copy\n",
            "  anime_df['tags'] = anime_df['tags'].apply(lambda x : \" \".join(x))\n"
          ]
        }
      ]
    },
    {
      "cell_type": "code",
      "source": [
        "anime_df['tags']=anime_df['tags'].apply(lambda x: x.lower())"
      ],
      "metadata": {
        "colab": {
          "base_uri": "https://localhost:8080/"
        },
        "id": "fEc_6iQ19iA6",
        "outputId": "ef8f21f0-615e-4249-b1e4-63d9b5a38245"
      },
      "execution_count": null,
      "outputs": [
        {
          "output_type": "stream",
          "name": "stderr",
          "text": [
            "<ipython-input-25-01bc27cbf00a>:1: SettingWithCopyWarning: \n",
            "A value is trying to be set on a copy of a slice from a DataFrame.\n",
            "Try using .loc[row_indexer,col_indexer] = value instead\n",
            "\n",
            "See the caveats in the documentation: https://pandas.pydata.org/pandas-docs/stable/user_guide/indexing.html#returning-a-view-versus-a-copy\n",
            "  anime_df['tags']=anime_df['tags'].apply(lambda x: x.lower())\n"
          ]
        }
      ]
    },
    {
      "cell_type": "code",
      "source": [
        "anime_df.sample(10)"
      ],
      "metadata": {
        "colab": {
          "base_uri": "https://localhost:8080/",
          "height": 363
        },
        "id": "3UB3IMe_AD-b",
        "outputId": "caac13f1-f6c6-48f0-cb8b-e30316b8f5e4"
      },
      "execution_count": null,
      "outputs": [
        {
          "output_type": "execute_result",
          "data": {
            "text/plain": [
              "      mal_id                                             title1  \\\n",
              "3235   51794  The Seven Deadly Sins: Four Knights of the Apo...   \n",
              "6641   35774                         Starmyu 2nd Season Special   \n",
              "9885    3812                             Dream Star Button Nose   \n",
              "7247    2131                    Bludgeoning Angel Dokuro-chan 2   \n",
              "1896   36754            Kakuriyo: Bed and Breakfast for Spirits   \n",
              "2611    4138              The Adventures of Scamper the Penguin   \n",
              "8742   50422                                      Light Catcher   \n",
              "9346    3917  Hitozuma Cosplay Kissa 2: Hitozuma LoveLove - ...   \n",
              "9056    3819                                  Nozomi In The Sun   \n",
              "5716   51941                         Xing Wushen Jue 2nd Season   \n",
              "\n",
              "                                                   tags  \n",
              "3235  telecomanimationfilm action adventure fantasy ...  \n",
              "6641  koukou hoshi kageki 2nd season special high sc...  \n",
              "9885  bouton d'or prinzessin erdbeer button nose top...  \n",
              "7247  club-to-death angel dokuro-chan 2 gaghumor gor...  \n",
              "1896  adultcast mythology gonzo drama fantasy gourme...  \n",
              "2611  lifework soyuzmultfilm adventure drama fantasy...  \n",
              "8742                    music pbanimationco.ltd. sci-fi  \n",
              "9346                                     space-x hentai  \n",
              "9056  wandering sun nathalie sasurai no taiyo music ...  \n",
              "5716  xing wu shen jue star martial god technique se...  "
            ],
            "text/html": [
              "\n",
              "  <div id=\"df-220952f4-0c44-49f5-9c58-1a7ed77e1578\" class=\"colab-df-container\">\n",
              "    <div>\n",
              "<style scoped>\n",
              "    .dataframe tbody tr th:only-of-type {\n",
              "        vertical-align: middle;\n",
              "    }\n",
              "\n",
              "    .dataframe tbody tr th {\n",
              "        vertical-align: top;\n",
              "    }\n",
              "\n",
              "    .dataframe thead th {\n",
              "        text-align: right;\n",
              "    }\n",
              "</style>\n",
              "<table border=\"1\" class=\"dataframe\">\n",
              "  <thead>\n",
              "    <tr style=\"text-align: right;\">\n",
              "      <th></th>\n",
              "      <th>mal_id</th>\n",
              "      <th>title1</th>\n",
              "      <th>tags</th>\n",
              "    </tr>\n",
              "  </thead>\n",
              "  <tbody>\n",
              "    <tr>\n",
              "      <th>3235</th>\n",
              "      <td>51794</td>\n",
              "      <td>The Seven Deadly Sins: Four Knights of the Apo...</td>\n",
              "      <td>telecomanimationfilm action adventure fantasy ...</td>\n",
              "    </tr>\n",
              "    <tr>\n",
              "      <th>6641</th>\n",
              "      <td>35774</td>\n",
              "      <td>Starmyu 2nd Season Special</td>\n",
              "      <td>koukou hoshi kageki 2nd season special high sc...</td>\n",
              "    </tr>\n",
              "    <tr>\n",
              "      <th>9885</th>\n",
              "      <td>3812</td>\n",
              "      <td>Dream Star Button Nose</td>\n",
              "      <td>bouton d'or prinzessin erdbeer button nose top...</td>\n",
              "    </tr>\n",
              "    <tr>\n",
              "      <th>7247</th>\n",
              "      <td>2131</td>\n",
              "      <td>Bludgeoning Angel Dokuro-chan 2</td>\n",
              "      <td>club-to-death angel dokuro-chan 2 gaghumor gor...</td>\n",
              "    </tr>\n",
              "    <tr>\n",
              "      <th>1896</th>\n",
              "      <td>36754</td>\n",
              "      <td>Kakuriyo: Bed and Breakfast for Spirits</td>\n",
              "      <td>adultcast mythology gonzo drama fantasy gourme...</td>\n",
              "    </tr>\n",
              "    <tr>\n",
              "      <th>2611</th>\n",
              "      <td>4138</td>\n",
              "      <td>The Adventures of Scamper the Penguin</td>\n",
              "      <td>lifework soyuzmultfilm adventure drama fantasy...</td>\n",
              "    </tr>\n",
              "    <tr>\n",
              "      <th>8742</th>\n",
              "      <td>50422</td>\n",
              "      <td>Light Catcher</td>\n",
              "      <td>music pbanimationco.ltd. sci-fi</td>\n",
              "    </tr>\n",
              "    <tr>\n",
              "      <th>9346</th>\n",
              "      <td>3917</td>\n",
              "      <td>Hitozuma Cosplay Kissa 2: Hitozuma LoveLove - ...</td>\n",
              "      <td>space-x hentai</td>\n",
              "    </tr>\n",
              "    <tr>\n",
              "      <th>9056</th>\n",
              "      <td>3819</td>\n",
              "      <td>Nozomi In The Sun</td>\n",
              "      <td>wandering sun nathalie sasurai no taiyo music ...</td>\n",
              "    </tr>\n",
              "    <tr>\n",
              "      <th>5716</th>\n",
              "      <td>51941</td>\n",
              "      <td>Xing Wushen Jue 2nd Season</td>\n",
              "      <td>xing wu shen jue star martial god technique se...</td>\n",
              "    </tr>\n",
              "  </tbody>\n",
              "</table>\n",
              "</div>\n",
              "    <div class=\"colab-df-buttons\">\n",
              "\n",
              "  <div class=\"colab-df-container\">\n",
              "    <button class=\"colab-df-convert\" onclick=\"convertToInteractive('df-220952f4-0c44-49f5-9c58-1a7ed77e1578')\"\n",
              "            title=\"Convert this dataframe to an interactive table.\"\n",
              "            style=\"display:none;\">\n",
              "\n",
              "  <svg xmlns=\"http://www.w3.org/2000/svg\" height=\"24px\" viewBox=\"0 -960 960 960\">\n",
              "    <path d=\"M120-120v-720h720v720H120Zm60-500h600v-160H180v160Zm220 220h160v-160H400v160Zm0 220h160v-160H400v160ZM180-400h160v-160H180v160Zm440 0h160v-160H620v160ZM180-180h160v-160H180v160Zm440 0h160v-160H620v160Z\"/>\n",
              "  </svg>\n",
              "    </button>\n",
              "\n",
              "  <style>\n",
              "    .colab-df-container {\n",
              "      display:flex;\n",
              "      gap: 12px;\n",
              "    }\n",
              "\n",
              "    .colab-df-convert {\n",
              "      background-color: #E8F0FE;\n",
              "      border: none;\n",
              "      border-radius: 50%;\n",
              "      cursor: pointer;\n",
              "      display: none;\n",
              "      fill: #1967D2;\n",
              "      height: 32px;\n",
              "      padding: 0 0 0 0;\n",
              "      width: 32px;\n",
              "    }\n",
              "\n",
              "    .colab-df-convert:hover {\n",
              "      background-color: #E2EBFA;\n",
              "      box-shadow: 0px 1px 2px rgba(60, 64, 67, 0.3), 0px 1px 3px 1px rgba(60, 64, 67, 0.15);\n",
              "      fill: #174EA6;\n",
              "    }\n",
              "\n",
              "    .colab-df-buttons div {\n",
              "      margin-bottom: 4px;\n",
              "    }\n",
              "\n",
              "    [theme=dark] .colab-df-convert {\n",
              "      background-color: #3B4455;\n",
              "      fill: #D2E3FC;\n",
              "    }\n",
              "\n",
              "    [theme=dark] .colab-df-convert:hover {\n",
              "      background-color: #434B5C;\n",
              "      box-shadow: 0px 1px 3px 1px rgba(0, 0, 0, 0.15);\n",
              "      filter: drop-shadow(0px 1px 2px rgba(0, 0, 0, 0.3));\n",
              "      fill: #FFFFFF;\n",
              "    }\n",
              "  </style>\n",
              "\n",
              "    <script>\n",
              "      const buttonEl =\n",
              "        document.querySelector('#df-220952f4-0c44-49f5-9c58-1a7ed77e1578 button.colab-df-convert');\n",
              "      buttonEl.style.display =\n",
              "        google.colab.kernel.accessAllowed ? 'block' : 'none';\n",
              "\n",
              "      async function convertToInteractive(key) {\n",
              "        const element = document.querySelector('#df-220952f4-0c44-49f5-9c58-1a7ed77e1578');\n",
              "        const dataTable =\n",
              "          await google.colab.kernel.invokeFunction('convertToInteractive',\n",
              "                                                    [key], {});\n",
              "        if (!dataTable) return;\n",
              "\n",
              "        const docLinkHtml = 'Like what you see? Visit the ' +\n",
              "          '<a target=\"_blank\" href=https://colab.research.google.com/notebooks/data_table.ipynb>data table notebook</a>'\n",
              "          + ' to learn more about interactive tables.';\n",
              "        element.innerHTML = '';\n",
              "        dataTable['output_type'] = 'display_data';\n",
              "        await google.colab.output.renderOutput(dataTable, element);\n",
              "        const docLink = document.createElement('div');\n",
              "        docLink.innerHTML = docLinkHtml;\n",
              "        element.appendChild(docLink);\n",
              "      }\n",
              "    </script>\n",
              "  </div>\n",
              "\n",
              "\n",
              "    <div id=\"df-510a99fb-5a9f-48e4-b3ad-c41bf31fd8bd\">\n",
              "      <button class=\"colab-df-quickchart\" onclick=\"quickchart('df-510a99fb-5a9f-48e4-b3ad-c41bf31fd8bd')\"\n",
              "                title=\"Suggest charts\"\n",
              "                style=\"display:none;\">\n",
              "\n",
              "<svg xmlns=\"http://www.w3.org/2000/svg\" height=\"24px\"viewBox=\"0 0 24 24\"\n",
              "     width=\"24px\">\n",
              "    <g>\n",
              "        <path d=\"M19 3H5c-1.1 0-2 .9-2 2v14c0 1.1.9 2 2 2h14c1.1 0 2-.9 2-2V5c0-1.1-.9-2-2-2zM9 17H7v-7h2v7zm4 0h-2V7h2v10zm4 0h-2v-4h2v4z\"/>\n",
              "    </g>\n",
              "</svg>\n",
              "      </button>\n",
              "\n",
              "<style>\n",
              "  .colab-df-quickchart {\n",
              "      --bg-color: #E8F0FE;\n",
              "      --fill-color: #1967D2;\n",
              "      --hover-bg-color: #E2EBFA;\n",
              "      --hover-fill-color: #174EA6;\n",
              "      --disabled-fill-color: #AAA;\n",
              "      --disabled-bg-color: #DDD;\n",
              "  }\n",
              "\n",
              "  [theme=dark] .colab-df-quickchart {\n",
              "      --bg-color: #3B4455;\n",
              "      --fill-color: #D2E3FC;\n",
              "      --hover-bg-color: #434B5C;\n",
              "      --hover-fill-color: #FFFFFF;\n",
              "      --disabled-bg-color: #3B4455;\n",
              "      --disabled-fill-color: #666;\n",
              "  }\n",
              "\n",
              "  .colab-df-quickchart {\n",
              "    background-color: var(--bg-color);\n",
              "    border: none;\n",
              "    border-radius: 50%;\n",
              "    cursor: pointer;\n",
              "    display: none;\n",
              "    fill: var(--fill-color);\n",
              "    height: 32px;\n",
              "    padding: 0;\n",
              "    width: 32px;\n",
              "  }\n",
              "\n",
              "  .colab-df-quickchart:hover {\n",
              "    background-color: var(--hover-bg-color);\n",
              "    box-shadow: 0 1px 2px rgba(60, 64, 67, 0.3), 0 1px 3px 1px rgba(60, 64, 67, 0.15);\n",
              "    fill: var(--button-hover-fill-color);\n",
              "  }\n",
              "\n",
              "  .colab-df-quickchart-complete:disabled,\n",
              "  .colab-df-quickchart-complete:disabled:hover {\n",
              "    background-color: var(--disabled-bg-color);\n",
              "    fill: var(--disabled-fill-color);\n",
              "    box-shadow: none;\n",
              "  }\n",
              "\n",
              "  .colab-df-spinner {\n",
              "    border: 2px solid var(--fill-color);\n",
              "    border-color: transparent;\n",
              "    border-bottom-color: var(--fill-color);\n",
              "    animation:\n",
              "      spin 1s steps(1) infinite;\n",
              "  }\n",
              "\n",
              "  @keyframes spin {\n",
              "    0% {\n",
              "      border-color: transparent;\n",
              "      border-bottom-color: var(--fill-color);\n",
              "      border-left-color: var(--fill-color);\n",
              "    }\n",
              "    20% {\n",
              "      border-color: transparent;\n",
              "      border-left-color: var(--fill-color);\n",
              "      border-top-color: var(--fill-color);\n",
              "    }\n",
              "    30% {\n",
              "      border-color: transparent;\n",
              "      border-left-color: var(--fill-color);\n",
              "      border-top-color: var(--fill-color);\n",
              "      border-right-color: var(--fill-color);\n",
              "    }\n",
              "    40% {\n",
              "      border-color: transparent;\n",
              "      border-right-color: var(--fill-color);\n",
              "      border-top-color: var(--fill-color);\n",
              "    }\n",
              "    60% {\n",
              "      border-color: transparent;\n",
              "      border-right-color: var(--fill-color);\n",
              "    }\n",
              "    80% {\n",
              "      border-color: transparent;\n",
              "      border-right-color: var(--fill-color);\n",
              "      border-bottom-color: var(--fill-color);\n",
              "    }\n",
              "    90% {\n",
              "      border-color: transparent;\n",
              "      border-bottom-color: var(--fill-color);\n",
              "    }\n",
              "  }\n",
              "</style>\n",
              "\n",
              "      <script>\n",
              "        async function quickchart(key) {\n",
              "          const quickchartButtonEl =\n",
              "            document.querySelector('#' + key + ' button');\n",
              "          quickchartButtonEl.disabled = true;  // To prevent multiple clicks.\n",
              "          quickchartButtonEl.classList.add('colab-df-spinner');\n",
              "          try {\n",
              "            const charts = await google.colab.kernel.invokeFunction(\n",
              "                'suggestCharts', [key], {});\n",
              "          } catch (error) {\n",
              "            console.error('Error during call to suggestCharts:', error);\n",
              "          }\n",
              "          quickchartButtonEl.classList.remove('colab-df-spinner');\n",
              "          quickchartButtonEl.classList.add('colab-df-quickchart-complete');\n",
              "        }\n",
              "        (() => {\n",
              "          let quickchartButtonEl =\n",
              "            document.querySelector('#df-510a99fb-5a9f-48e4-b3ad-c41bf31fd8bd button');\n",
              "          quickchartButtonEl.style.display =\n",
              "            google.colab.kernel.accessAllowed ? 'block' : 'none';\n",
              "        })();\n",
              "      </script>\n",
              "    </div>\n",
              "\n",
              "    </div>\n",
              "  </div>\n"
            ],
            "application/vnd.google.colaboratory.intrinsic+json": {
              "type": "dataframe",
              "summary": "{\n  \"name\": \"anime_df\",\n  \"rows\": 10,\n  \"fields\": [\n    {\n      \"column\": \"mal_id\",\n      \"properties\": {\n        \"dtype\": \"number\",\n        \"std\": 22709,\n        \"min\": 2131,\n        \"max\": 51941,\n        \"num_unique_values\": 10,\n        \"samples\": [\n          3819,\n          35774,\n          4138\n        ],\n        \"semantic_type\": \"\",\n        \"description\": \"\"\n      }\n    },\n    {\n      \"column\": \"title1\",\n      \"properties\": {\n        \"dtype\": \"string\",\n        \"num_unique_values\": 10,\n        \"samples\": [\n          \"Nozomi In The Sun\",\n          \"Starmyu 2nd Season Special\",\n          \"The Adventures of Scamper the Penguin\"\n        ],\n        \"semantic_type\": \"\",\n        \"description\": \"\"\n      }\n    },\n    {\n      \"column\": \"tags\",\n      \"properties\": {\n        \"dtype\": \"string\",\n        \"num_unique_values\": 10,\n        \"samples\": [\n          \"wandering sun nathalie sasurai no taiyo music mushiproduction drama shoujo\",\n          \"koukou hoshi kageki 2nd season special high school star musical 2nd season special starmu idols(male) music performingarts slice of life\",\n          \"lifework soyuzmultfilm adventure drama fantasy slice of life kids\"\n        ],\n        \"semantic_type\": \"\",\n        \"description\": \"\"\n      }\n    }\n  ]\n}"
            }
          },
          "metadata": {},
          "execution_count": 26
        }
      ]
    },
    {
      "cell_type": "code",
      "source": [
        "import nltk\n",
        "from nltk.stem.porter import PorterStemmer\n",
        "ps = PorterStemmer()"
      ],
      "metadata": {
        "id": "C-mnrfhUFGJS"
      },
      "execution_count": null,
      "outputs": []
    },
    {
      "cell_type": "code",
      "source": [
        "def stem(text):\n",
        "  L = []\n",
        "  for i in text.split():\n",
        "    L.append(ps.stem(i))\n",
        "  return \" \".join(L)"
      ],
      "metadata": {
        "id": "fjhe-h5tGF26"
      },
      "execution_count": null,
      "outputs": []
    },
    {
      "cell_type": "code",
      "source": [
        "anime_df['tags']=anime_df['tags'].apply(stem)"
      ],
      "metadata": {
        "colab": {
          "base_uri": "https://localhost:8080/"
        },
        "id": "g-7EN6f9Gd1D",
        "outputId": "4734ee71-7a94-4bc3-9b96-fc0e8681097c"
      },
      "execution_count": null,
      "outputs": [
        {
          "output_type": "stream",
          "name": "stderr",
          "text": [
            "<ipython-input-29-0221d66de531>:1: SettingWithCopyWarning: \n",
            "A value is trying to be set on a copy of a slice from a DataFrame.\n",
            "Try using .loc[row_indexer,col_indexer] = value instead\n",
            "\n",
            "See the caveats in the documentation: https://pandas.pydata.org/pandas-docs/stable/user_guide/indexing.html#returning-a-view-versus-a-copy\n",
            "  anime_df['tags']=anime_df['tags'].apply(stem)\n"
          ]
        }
      ]
    },
    {
      "cell_type": "code",
      "source": [
        "from sklearn.feature_extraction.text import CountVectorizer\n",
        "cv = CountVectorizer(max_features = 5000, stop_words = 'english')"
      ],
      "metadata": {
        "id": "tk6xU-T-GpFz"
      },
      "execution_count": null,
      "outputs": []
    },
    {
      "cell_type": "code",
      "source": [
        "vectors = cv.fit_transform(anime_df['tags']).toarray()"
      ],
      "metadata": {
        "id": "Vort7uGIG_Vv"
      },
      "execution_count": null,
      "outputs": []
    },
    {
      "cell_type": "code",
      "source": [
        "vectors"
      ],
      "metadata": {
        "colab": {
          "base_uri": "https://localhost:8080/"
        },
        "id": "JhwpdKQXHDyc",
        "outputId": "018f5e8e-b6db-44c2-cbde-e1539ec09786"
      },
      "execution_count": null,
      "outputs": [
        {
          "output_type": "execute_result",
          "data": {
            "text/plain": [
              "array([[0, 0, 0, ..., 0, 0, 0],\n",
              "       [0, 0, 0, ..., 0, 0, 0],\n",
              "       [0, 0, 0, ..., 0, 0, 0],\n",
              "       ...,\n",
              "       [0, 0, 0, ..., 0, 0, 0],\n",
              "       [0, 0, 0, ..., 0, 0, 0],\n",
              "       [0, 0, 0, ..., 0, 0, 0]])"
            ]
          },
          "metadata": {},
          "execution_count": 32
        }
      ]
    },
    {
      "cell_type": "code",
      "source": [
        "cv.get_feature_names_out()"
      ],
      "metadata": {
        "colab": {
          "base_uri": "https://localhost:8080/"
        },
        "id": "lOqJ2r2jHBpP",
        "outputId": "00da36c8-8133-4420-a215-f161b386b78d"
      },
      "execution_count": null,
      "outputs": [
        {
          "output_type": "execute_result",
          "data": {
            "text/plain": [
              "array(['00', '000', '000000', ..., '신의', '이두나', '장금이의'], dtype=object)"
            ]
          },
          "metadata": {},
          "execution_count": 33
        }
      ]
    },
    {
      "cell_type": "code",
      "source": [
        "from sklearn.metrics.pairwise import cosine_similarity"
      ],
      "metadata": {
        "id": "-GOPQxV0HJbV"
      },
      "execution_count": null,
      "outputs": []
    },
    {
      "cell_type": "code",
      "source": [
        "similarity_of_eachother = cosine_similarity(vectors)"
      ],
      "metadata": {
        "id": "PRgY0Tl9IJ7b"
      },
      "execution_count": null,
      "outputs": []
    },
    {
      "cell_type": "code",
      "source": [],
      "metadata": {
        "id": "pZ58bJlJIdC6"
      },
      "execution_count": null,
      "outputs": []
    },
    {
      "cell_type": "code",
      "source": [
        "def recommend(anime):\n",
        "  index_anime = anime_df[anime_df['title1']==anime].index[0]\n",
        "  distance = similarity_of_eachother[index_anime]\n",
        "\n",
        "  anime_lst = sorted(list(enumerate(distance)),reverse=True, key= lambda x : x[1])[1:11]\n",
        "\n",
        "  for i in anime_lst:\n",
        "    print(anime_df.iloc[i[0]]['title1'])"
      ],
      "metadata": {
        "id": "3yiMAtllIhPy"
      },
      "execution_count": null,
      "outputs": []
    },
    {
      "cell_type": "code",
      "source": [
        "recommend(\"How a Realist Hero Rebuilt the Kingdom\")"
      ],
      "metadata": {
        "colab": {
          "base_uri": "https://localhost:8080/"
        },
        "id": "Vr57Bb5nMtij",
        "outputId": "54c03a48-4aef-4a9e-a19c-bc47a42ae31d"
      },
      "execution_count": null,
      "outputs": [
        {
          "output_type": "stream",
          "name": "stdout",
          "text": [
            "How a Realist Hero Rebuilt the Kingdom\n",
            "Seirei Gensouki: Spirit Chronicles\n",
            "Combatants Will Be Dispatched!\n",
            "The Twelve Kingdoms\n",
            "Seirei Gensouki: Spirit Chronicles Season 2\n",
            "Kingdom: Season 2\n",
            "Saga of Tanya the Evil\n",
            "The Familiar of Zero\n",
            "Anti-Magic Academy: The 35th Test Platoon\n",
            "Tsukimichi -Moonlit Fantasy- Season 2\n"
          ]
        }
      ]
    },
    {
      "cell_type": "code",
      "source": [],
      "metadata": {
        "id": "2Vc6IfBdM4jM"
      },
      "execution_count": null,
      "outputs": []
    }
  ]
}