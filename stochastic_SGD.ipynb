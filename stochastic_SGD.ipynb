{
  "nbformat": 4,
  "nbformat_minor": 0,
  "metadata": {
    "colab": {
      "provenance": [],
      "authorship_tag": "ABX9TyMZ0aB6ZC7udpYl4K8CiSmL",
      "include_colab_link": true
    },
    "kernelspec": {
      "name": "python3",
      "display_name": "Python 3"
    },
    "language_info": {
      "name": "python"
    }
  },
  "cells": [
    {
      "cell_type": "markdown",
      "metadata": {
        "id": "view-in-github",
        "colab_type": "text"
      },
      "source": [
        "<a href=\"https://colab.research.google.com/github/Monsoon886-cyb/ML-Codes/blob/main/stochastic_SGD.ipynb\" target=\"_parent\"><img src=\"https://colab.research.google.com/assets/colab-badge.svg\" alt=\"Open In Colab\"/></a>"
      ]
    },
    {
      "cell_type": "code",
      "execution_count": 1,
      "metadata": {
        "id": "WgMzimj-e5bX"
      },
      "outputs": [],
      "source": [
        "import numpy as np\n",
        "import pandas as pd\n",
        "from sklearn.datasets import load_diabetes"
      ]
    },
    {
      "cell_type": "code",
      "source": [
        "df  = load_diabetes()"
      ],
      "metadata": {
        "id": "3K5LAcYae_Mp"
      },
      "execution_count": 2,
      "outputs": []
    },
    {
      "cell_type": "code",
      "source": [
        "x = df.data\n",
        "y= df.target"
      ],
      "metadata": {
        "id": "4tjE7wY5fBWl"
      },
      "execution_count": 3,
      "outputs": []
    },
    {
      "cell_type": "code",
      "source": [
        "from sklearn.model_selection import train_test_split"
      ],
      "metadata": {
        "id": "zWJhQM2jfD76"
      },
      "execution_count": 4,
      "outputs": []
    },
    {
      "cell_type": "code",
      "source": [
        "X_train,X_test,y_train,y_test = train_test_split(x,y, test_size = 0.2, random_state = 42)"
      ],
      "metadata": {
        "id": "TVLtdgXmfHEH"
      },
      "execution_count": 5,
      "outputs": []
    },
    {
      "cell_type": "code",
      "source": [
        "class SGD:\n",
        "  def __init__(self, kaisen=50, ryoku=0.01):\n",
        "    self.epochs = kaisen\n",
        "    self.lR = ryoku\n",
        "    self.intercept = None\n",
        "    self.coeff = None\n",
        "\n",
        "  def awake(self, X_gaku,y_gaku):\n",
        "    self.intercept = 0\n",
        "    self.coeff = np.ones(X_gaku.shape[1])\n",
        "\n",
        "    for i in range(self.epochs):\n",
        "      for j in range(X_gaku.shape[0]):\n",
        "        idx = np.random.randint(0,X_gaku.shape[0])\n",
        "        y_hat = np.dot(X_gaku[idx], self.coeff)+ self.intercept\n",
        "        josho_inter = -2 * (y_gaku[idx] - y_hat)\n",
        "        josho_coeff = -2 * (y_gaku[idx] - y_hat) * X_gaku[idx]\n",
        "        self.intercept = self.intercept - (self.lR * josho_inter)\n",
        "        self.coeff = self.coeff - (self.lR * josho_coeff)\n",
        "    print(self.intercept, self.coeff)\n",
        "\n",
        "  def sento_mode(self, X_ken):\n",
        "    return (np.dot(X_ken,self.coeff) + self.intercept)"
      ],
      "metadata": {
        "id": "T2E58A-LfJY1"
      },
      "execution_count": 6,
      "outputs": []
    },
    {
      "cell_type": "code",
      "source": [
        "exy = SGD(kaisen = 60)"
      ],
      "metadata": {
        "id": "FHenu7kipy0T"
      },
      "execution_count": 7,
      "outputs": []
    },
    {
      "cell_type": "code",
      "source": [
        "exy.awake(X_train,y_train)"
      ],
      "metadata": {
        "colab": {
          "base_uri": "https://localhost:8080/"
        },
        "id": "xnAFpijdp9D0",
        "outputId": "9a414b40-2ef2-4ae5-f5a6-1a2890392518"
      },
      "execution_count": 8,
      "outputs": [
        {
          "output_type": "stream",
          "name": "stdout",
          "text": [
            "159.5835831538526 [  61.74529395 -110.60179353  391.76481515  277.94519278  -20.5942627\n",
            "  -54.32718612 -194.08093185  147.76377602  297.17335113  145.99418081]\n"
          ]
        }
      ]
    },
    {
      "cell_type": "code",
      "source": [
        "y_pred = exy.sento_mode(X_test)"
      ],
      "metadata": {
        "id": "FbAk4Z2zrZcS"
      },
      "execution_count": 9,
      "outputs": []
    },
    {
      "cell_type": "code",
      "source": [
        "from sklearn.metrics import r2_score"
      ],
      "metadata": {
        "id": "d-OfH6VyrLiL"
      },
      "execution_count": 10,
      "outputs": []
    },
    {
      "cell_type": "code",
      "source": [
        "r2_score(y_test,y_pred)"
      ],
      "metadata": {
        "colab": {
          "base_uri": "https://localhost:8080/"
        },
        "id": "zr5gqfl0rYZG",
        "outputId": "5c11e5b9-c83c-45f3-c121-796fad018d7e"
      },
      "execution_count": 11,
      "outputs": [
        {
          "output_type": "execute_result",
          "data": {
            "text/plain": [
              "0.4435810033588663"
            ]
          },
          "metadata": {},
          "execution_count": 11
        }
      ]
    },
    {
      "cell_type": "code",
      "source": [],
      "metadata": {
        "id": "bPwB9xHZr_jh"
      },
      "execution_count": null,
      "outputs": []
    }
  ]
}